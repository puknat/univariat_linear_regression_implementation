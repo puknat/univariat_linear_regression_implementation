{
 "cells": [
  {
   "cell_type": "markdown",
   "metadata": {},
   "source": [
    "# Implementation of Univariat Linear Regression using Gradient Descent"
   ]
  },
  {
   "cell_type": "code",
   "execution_count": 1,
   "metadata": {},
   "outputs": [],
   "source": [
    "%matplotlib inline\n",
    "import numpy as np\n",
    "import matplotlib.pyplot as plt"
   ]
  },
  {
   "cell_type": "markdown",
   "metadata": {},
   "source": [
    "Generating some random data for the linear model to fit."
   ]
  },
  {
   "cell_type": "code",
   "execution_count": 2,
   "metadata": {},
   "outputs": [
    {
     "data": {
      "text/plain": [
       "(2, 100)"
      ]
     },
     "execution_count": 2,
     "metadata": {},
     "output_type": "execute_result"
    }
   ],
   "source": [
    "m = 2\n",
    "b = 1\n",
    "\n",
    "x = np.arange(0, 10, 0.1)\n",
    "y = m*x + b + np.random.uniform(-2.0, 2.0, (100))\n",
    "data = np.array([x,y])\n",
    "data.shape"
   ]
  },
  {
   "cell_type": "markdown",
   "metadata": {},
   "source": [
    "Initializing the two parameters to be estimated with random numbers."
   ]
  },
  {
   "cell_type": "code",
   "execution_count": 3,
   "metadata": {},
   "outputs": [],
   "source": [
    "parameters = np.random.uniform(0.0, 1.0, (2))"
   ]
  },
  {
   "cell_type": "code",
   "execution_count": 4,
   "metadata": {},
   "outputs": [
    {
     "data": {
      "text/plain": [
       "array([0.17831731, 0.68419155])"
      ]
     },
     "execution_count": 4,
     "metadata": {},
     "output_type": "execute_result"
    }
   ],
   "source": [
    "parameters"
   ]
  },
  {
   "cell_type": "markdown",
   "metadata": {},
   "source": [
    "Comparing the data with the randomly initialized hypothesis."
   ]
  },
  {
   "cell_type": "code",
   "execution_count": 5,
   "metadata": {},
   "outputs": [
    {
     "data": {
      "image/png": "[encoded data removed]",
      "text/plain": [
       "<Figure size 432x288 with 1 Axes>"
      ]
     },
     "metadata": {
      "needs_background": "light"
     },
     "output_type": "display_data"
    }
   ],
   "source": [
    "predictions = data[0]*parameters[1] + parameters[0]\n",
    "plt.scatter(x=data[0], y=data[1])\n",
    "plt.plot(data[0], predictions, \"r\")\n",
    "plt.show()"
   ]
  },
  {
   "cell_type": "markdown",
   "metadata": {},
   "source": [
    "Defining the loss function."
   ]
  },
  {
   "cell_type": "code",
   "execution_count": 6,
   "metadata": {},
   "outputs": [],
   "source": [
    "def loss(data, parameters):\n",
    "    predictions = data[0]*parameters[1] + parameters[0]\n",
    "    squared_errors = np.square(data[1] - predictions)\n",
    "    summed_error = np.sum(squared_errors)\n",
    "    normalized_error = summed_error / data.shape[1]\n",
    "    return normalized_error"
   ]
  },
  {
   "cell_type": "markdown",
   "metadata": {},
   "source": [
    "Defining the function for gradient calculation."
   ]
  },
  {
   "cell_type": "code",
   "execution_count": 7,
   "metadata": {},
   "outputs": [],
   "source": [
    "def gradients(x, y, parameters):\n",
    "    number_of_samples = x.shape[0]\n",
    "    extended_features = np.stack([np.ones(number_of_samples), x], axis=0) # shape = (2, number of samples)\n",
    "    predictions = x*parameters[1] + parameters[0]\n",
    "    error = (y - predictions)*(-1)\n",
    "    gradients = np.sum(extended_features*error, axis=1)*(2/number_of_samples)\n",
    "    return gradients"
   ]
  },
  {
   "cell_type": "markdown",
   "metadata": {},
   "source": [
    "Running the gradient descent algorithm."
   ]
  },
  {
   "cell_type": "code",
   "execution_count": 8,
   "metadata": {},
   "outputs": [
    {
     "name": "stdout",
     "output_type": "stream",
     "text": [
      "8.724346717824268\n",
      "2.2537324182616105\n",
      "1.5558479174859299\n",
      "1.4800147339406888\n",
      "1.4712174318336126\n",
      "1.4696498284701045\n",
      "1.46886740070774\n",
      "1.468175653216073\n",
      "1.4674996899930448\n",
      "1.4668313810401152\n"
     ]
    }
   ],
   "source": [
    "lr = 0.01\n",
    "epochs = 10\n",
    "\n",
    "for i in range(epochs):\n",
    "    parameters = parameters - lr * gradients(data[0], data[1], parameters)\n",
    "    print(loss(data, parameters))"
   ]
  },
  {
   "cell_type": "markdown",
   "metadata": {},
   "source": [
    "Visualizing the results, the predicted linear function now fits the data nicely!"
   ]
  },
  {
   "cell_type": "code",
   "execution_count": 9,
   "metadata": {},
   "outputs": [
    {
     "data": {
      "image/png": "[encoded data removed]",
      "text/plain": [
       "<Figure size 432x288 with 1 Axes>"
      ]
     },
     "metadata": {
      "needs_background": "light"
     },
     "output_type": "display_data"
    }
   ],
   "source": [
    "predictions = data[0]*parameters[1] + parameters[0]\n",
    "plt.scatter(x=data[0], y=data[1])\n",
    "plt.plot(data[0], predictions, \"r\")\n",
    "plt.show()"
   ]
  }
 ],
 "metadata": {
  "kernelspec": {
   "display_name": "Python 3",
   "language": "python",
   "name": "python3"
  },
  "language_info": {
   "codemirror_mode": {
    "name": "ipython",
    "version": 3
   },
   "file_extension": ".py",
   "mimetype": "text/x-python",
   "name": "python",
   "nbconvert_exporter": "python",
   "pygments_lexer": "ipython3",
   "version": "3.6.6"
  }
 },
 "nbformat": 4,
 "nbformat_minor": 2
}
